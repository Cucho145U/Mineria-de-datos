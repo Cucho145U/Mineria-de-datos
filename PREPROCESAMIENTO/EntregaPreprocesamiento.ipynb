{
 "cells": [
  {
   "cell_type": "code",
   "execution_count": 1,
   "id": "5ff2e129",
   "metadata": {},
   "outputs": [],
   "source": [
    "import findspark\n",
    "findspark.init()\n",
    "from pyspark import SparkContext\n",
    "import pyspark # only run after findspark.init()\n",
    "from pyspark.sql import SparkSession\n",
    "sc = SparkContext.getOrCreate()"
   ]
  },
  {
   "cell_type": "markdown",
   "id": "e8f5ded4",
   "metadata": {},
   "source": [
    "## Distancia Coseno"
   ]
  },
  {
   "cell_type": "code",
   "execution_count": 2,
   "id": "958ab96b",
   "metadata": {},
   "outputs": [
    {
     "data": {
      "text/plain": [
       "0.12307692307692308"
      ]
     },
     "execution_count": 2,
     "metadata": {},
     "output_type": "execute_result"
    }
   ],
   "source": [
    "from operator import add\n",
    "def distanciaCoseno(Arrays):\n",
    "    auxRDD=auxRDD=sc.parallelize(Arrays)\n",
    "    sumaArriba=(auxRDD.map(lambda x: x[0]*x[1]).reduce(add))\n",
    "    abajo=(auxRDD.map(lambda x: x[0]*x[0]).reduce(add)) *(auxRDD.map(lambda x: x[1]*x[1]).reduce(add))\n",
    "    return sumaArriba/abajo\n",
    "distanciaCoseno([[1,2],[2,3]])"
   ]
  },
  {
   "cell_type": "markdown",
   "id": "49b18bd1",
   "metadata": {},
   "source": [
    "## Escalonamiento"
   ]
  },
  {
   "cell_type": "code",
   "execution_count": 5,
   "id": "389aa08b",
   "metadata": {},
   "outputs": [],
   "source": [
    "def Escalonamiento(lista):\n",
    "    auxRDD=sc.parallelize(lista)\n",
    "    #Se calcula el mayor de los numeros y el minimo\n",
    "    maxNum = max(auxRDD.collect())\n",
    "    minNum = min(auxRDD.collect())\n",
    "    return(RDDnumeros\n",
    "            .map(lambda x: ((x-minNum)/(maxNum-minNum)))\n",
    "           )\n"
   ]
  },
  {
   "cell_type": "markdown",
   "id": "f675f6db",
   "metadata": {},
   "source": [
    "## Back of words"
   ]
  },
  {
   "cell_type": "code",
   "execution_count": 7,
   "id": "b6598625",
   "metadata": {},
   "outputs": [
    {
     "data": {
      "text/plain": [
       "[('el', 1), ('', 1), ('me', 1), ('tangananika', 2), ('gusta', 1), ('nika', 3)]"
      ]
     },
     "execution_count": 7,
     "metadata": {},
     "output_type": "execute_result"
    }
   ],
   "source": [
    "import re\n",
    "def bagOfWords(texto):\n",
    "    texto= re.sub(r'[^A-Za-z0-9 ]', '', texto).strip().lower()\n",
    "    texto=texto.split(\" \")\n",
    "\n",
    "    auxRDD=sc.parallelize(texto)\n",
    "    auxRDD= (auxRDD.\n",
    "             map(lambda x:[x,1]).\n",
    "             reduceByKey(lambda x,y:x+y).\n",
    "             map(lambda x:(x[0],x[1]) )\n",
    "            )\n",
    "    return auxRDD.collect()\n",
    "bagOfWords(\"me gusta el tangananika , tangananika nika nika nika\")"
   ]
  },
  {
   "cell_type": "code",
   "execution_count": null,
   "id": "d08809e5",
   "metadata": {},
   "outputs": [],
   "source": []
  }
 ],
 "metadata": {
  "kernelspec": {
   "display_name": "Python 3 (ipykernel)",
   "language": "python",
   "name": "python3"
  },
  "language_info": {
   "codemirror_mode": {
    "name": "ipython",
    "version": 3
   },
   "file_extension": ".py",
   "mimetype": "text/x-python",
   "name": "python",
   "nbconvert_exporter": "python",
   "pygments_lexer": "ipython3",
   "version": "3.8.3"
  }
 },
 "nbformat": 4,
 "nbformat_minor": 5
}
